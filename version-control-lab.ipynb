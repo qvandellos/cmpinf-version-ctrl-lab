{
 "cells": [
  {
   "cell_type": "markdown",
   "metadata": {},
   "source": [
    "Program to ask user for name and age, and print a message telling the user how many days old they are"
   ]
  },
  {
   "cell_type": "code",
   "execution_count": 1,
   "metadata": {},
   "outputs": [
    {
     "name": "stdin",
     "output_type": "stream",
     "text": [
      "What is your name?  Aaron\n",
      "What is your age?  18\n"
     ]
    },
    {
     "name": "stdout",
     "output_type": "stream",
     "text": [
      "Aaron, you are 6570 days old!\n"
     ]
    }
   ],
   "source": [
    "name = input(\"What is your name? \")\n",
    "while True:\n",
    "    try:\n",
    "        age = int(input(\"What is your age? \"))\n",
    "        if age < 1:\n",
    "            raise Exception()\n",
    "        print(name.lower().title() + ',', \"you are\", age * 365, \"days old!\")\n",
    "        break\n",
    "    except:\n",
    "        print(\"Invalid age!\")\n"
   ]
  },
  {
   "cell_type": "code",
   "execution_count": null,
   "metadata": {},
   "outputs": [],
   "source": []
  }
 ],
 "metadata": {
  "kernelspec": {
   "display_name": "Python 3",
   "language": "python",
   "name": "python3"
  },
  "language_info": {
   "codemirror_mode": {
    "name": "ipython",
    "version": 3
   },
   "file_extension": ".py",
   "mimetype": "text/x-python",
   "name": "python",
   "nbconvert_exporter": "python",
   "pygments_lexer": "ipython3",
   "version": "3.8.3"
  }
 },
 "nbformat": 4,
 "nbformat_minor": 4
}
